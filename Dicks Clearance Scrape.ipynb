{
    "metadata": {
        "kernelspec": {
            "name": "python3",
            "display_name": "Python 3"
        },
        "language_info": {
            "name": "python",
            "version": "3.8.2",
            "mimetype": "text/x-python",
            "codemirror_mode": {
                "name": "ipython",
                "version": 3
            },
            "pygments_lexer": "ipython3",
            "nbconvert_exporter": "python",
            "file_extension": ".py"
        }
    },
    "nbformat_minor": 2,
    "nbformat": 4,
    "cells": [
        {
            "cell_type": "code",
            "source": [
                "\"\"\"\r\n",
                "This script is used to parse HTML code from Dick's Sporting Goods Clearance website, find the items with the largest discount to original retail value, \r\n",
                "and order them according to largest discounts. The idea behind this is that if you buy the items with the largest discount, you can resell these items\r\n",
                "on Websites like Poshmark, eBay or other retail websites at a profit. \r\n",
                "\"\"\"\r\n",
                "\r\n",
                "import requests \r\n",
                "import re\r\n",
                "import lxml.html as lh\r\n",
                "import pandas as pd\r\n",
                "from bs4 import BeautifulSoup\r\n",
                "import urllib.request\r\n",
                "pd.set_option('display.max_rows', 500)"
            ],
            "metadata": {
                "azdata_cell_guid": "e42df910-63a6-4766-9495-be3374b466ab"
            },
            "outputs": [],
            "execution_count": 155
        },
        {
            "cell_type": "code",
            "source": [
                "url1=('https://www.dickssportinggoods.com/f/clearance-mens-apparel?pageNumber=0&filterFacets=facetStore%3ABOPIS%2CSHIP%3BX_BRAND%3ANike%2Cadidas%2CPatagonia%2CThe%20North%20Face%2CWalter%20Hagen%2CDSG&pageSize=144')\r\n",
                "\r\n",
                "#Create a handle, page, to handle the contents of the website\r\n",
                "page1 = requests.get(url1)\r\n",
                "\r\n",
                "#Store the contents of the website under soup\r\n",
                "\r\n",
                "soup = BeautifulSoup(page1.text,'html.parser')"
            ],
            "metadata": {
                "azdata_cell_guid": "a860c254-f733-46f2-83ed-b4f0727c26ff"
            },
            "outputs": [],
            "execution_count": 156
        },
        {
            "cell_type": "code",
            "source": [
                "low_price = soup.find_all('div', class_ = 'rs_item_price') #finds the new resale price\r\n",
                "high_price = soup.find_all('div', class_ = 'rs-fplp-wasprice rs-was-item-price') #finds the original retail price\r\n",
                "desc = soup.find_all('div', class_ = 'rs_product_description d-block') #Returns product description\r\n",
                "rate = soup.find_all('div', class_ = 'rs_rating_container') #returns product rating from other purchasers\r\n",
                "low_price[0] #checks to see if scrape was successful"
            ],
            "metadata": {
                "azdata_cell_guid": "07491f7e-32fa-45b3-95bd-ef23f2360915",
                "tags": []
            },
            "outputs": [
                {
                    "output_type": "execute_result",
                    "execution_count": 157,
                    "data": {
                        "text/plain": "<div class=\"rs_item_price\"><span class=\"rs_final_price\">$12.97 - $17.97</span></div>"
                    },
                    "metadata": {}
                }
            ],
            "execution_count": 157
        },
        {
            "cell_type": "code",
            "source": [
                "def splitter(x): #This function parses the new resale price based on the html code\r\n",
                "    if ' - ' in x:\r\n",
                "        start = '\"rs_final_price\">$'\r\n",
                "        end = ' -'\r\n",
                "        return (str(x).split(start)[1]).split(end)[0]\r\n",
                "    elif 'See Price In Cart' in x:\r\n",
                "        return '-'\r\n",
                "    else:\r\n",
                "        start = '$'\r\n",
                "        end = '</span'\r\n",
                "        return (str(x).split(start)[1]).split(end)[0]\r\n",
                "def splitter1(x): #This function parses the original resale price based on the html code\r\n",
                "    if ' - ' in x:\r\n",
                "        start = '$'\r\n",
                "        end = ' -'\r\n",
                "        return (str(x).split(start)[1]).split(end)[0]\r\n",
                "    else:\r\n",
                "        start = '$'\r\n",
                "        end = '*</div>'\r\n",
                "        return (str(x).split(start)[1]).split(end)[0]\r\n",
                "def splitter2(x): #This function parses the description  based on the html code\r\n",
                "    start = '-1\">'\r\n",
                "    end = '</a></div>'\r\n",
                "    return ((str(x).split(start)[1]).split(end)[0]).strip()\r\n",
                "def splitter3(x): #This function parses the rating based on the html code\r\n",
                "    start = 'rating '\r\n",
                "    end = '\" href='\r\n",
                "    return (str(x).split(start)[1]).split(end)[0]\r\n",
                ""
            ],
            "metadata": {
                "azdata_cell_guid": "ba37e1d5-07cd-474f-8e22-9b3a88dd3aa8",
                "tags": []
            },
            "outputs": [],
            "execution_count": 158
        },
        {
            "cell_type": "code",
            "source": [
                "# Next four cells apply the function to the returned html code\r\n",
                "low = []\r\n",
                "for i in range(len(low_price)):\r\n",
                "    low.append(splitter(str(low_price[i])))\r\n",
                ""
            ],
            "metadata": {
                "azdata_cell_guid": "77765190-541c-4138-8d19-22a5007efec6"
            },
            "outputs": [],
            "execution_count": 159
        },
        {
            "cell_type": "code",
            "source": [
                "high = []\r\n",
                "for j in range(len(high_price)):\r\n",
                "    high.append(splitter1(str(high_price[j])))"
            ],
            "metadata": {
                "azdata_cell_guid": "fda67786-1933-4d0c-bcdd-e4496e362771",
                "tags": []
            },
            "outputs": [],
            "execution_count": 160
        },
        {
            "cell_type": "code",
            "source": [
                "descrip = []\r\n",
                "for j in range(len(desc)):\r\n",
                "    descrip.append(splitter2(str(desc[j])))"
            ],
            "metadata": {
                "azdata_cell_guid": "410fd5ec-ea22-4a02-97d0-e405402cb5e3"
            },
            "outputs": [],
            "execution_count": 161
        },
        {
            "cell_type": "code",
            "source": [
                "ratings = []\r\n",
                "for i in range(len(rate)):\r\n",
                "    ratings.append(splitter3(str(rate[i])))\r\n",
                ""
            ],
            "metadata": {
                "azdata_cell_guid": "0dce59da-15b1-403c-8bb5-ffe3b09fd077"
            },
            "outputs": [],
            "execution_count": 162
        },
        {
            "cell_type": "code",
            "source": [
                "#Creates Table for analysis\r\n",
                "df = pd.DataFrame(list(zip(descrip,low,high,ratings)), columns = ['Description','Low','High','Ratings'])\r\n",
                "# df = df\r\n",
                "# df['Discount'] = df['High'].astype(float) - df['Low'].astype(float)\r\n",
                "df = df[df.Low.str.contains('-')==False]\r\n",
                "df['Low'] = df['Low'].astype(float)\r\n",
                "df['High'] = df['High'].astype(float)\r\n",
                "df['Ratings'] = (df['Ratings'].astype(float)/5)*100\r\n",
                "df['Discount'] = df['High'] - df['Low']\r\n",
                "df['Discount%'] = (df['Discount']/df['High'])\r\n",
                "df['Estimated Sale'] = (df['Low']*((df['Discount%']/2)+0.2))+df['Low']\r\n",
                "df['Estimated Profit %'] = (df['Estimated Sale'] - df['Low'])/df['Estimated Sale']\r\n",
                "df['Estimated Proft'] = (df['Estimated Sale']*df['Estimated Profit %'])"
            ],
            "metadata": {
                "azdata_cell_guid": "6a2a4d6c-4b1b-4435-9ed9-03db7679b546"
            },
            "outputs": [],
            "execution_count": 166
        },
        {
            "cell_type": "code",
            "source": [
                "df.sort_values('Discount%', ascending = False)"
            ],
            "metadata": {
                "azdata_cell_guid": "39a0af2e-847c-4c80-ae06-d915dc609807"
            },
            "outputs": [
                {
                    "output_type": "execute_result",
                    "execution_count": 167,
                    "data": {
                        "text/plain": "                                          Description    Low    High  Ratings  \\\n35  Walter Hagen Men's 11 Majors Championship Stri...  13.97   65.00   94.584   \n33  Walter Hagen Men's Essential Texture Stripe Go...  12.97   55.00   94.340   \n23               Nike Men's Legend 2.0 V-Neck T-Shirt   8.97   25.00   89.432   \n25         adidas Men's Drive Heather Block Golf Polo  19.97   55.00   97.778   \n10         adidas Men's Drive Novelty Solid Golf Polo  19.97   55.00   92.222   \n9   adidas Men's Tiro 19 Training Pants (Regular a...  16.97   45.00   93.932   \n19                adidas Men's FreeLift Sport T-Shirt   9.47   25.00   90.980   \n34         Nike Men's Dri-FIT Elite Basketball Shorts  13.97   35.00   85.000   \n21       adidas Men's Drive Novelty Heather Golf Polo  21.97   55.00   93.334   \n30             Nike Men's Solid Dry Victory Golf Polo  21.97   55.00   81.818   \n22  Under Armour Men's Playoff 2.0 Tour Stripe Gol...  25.97   65.00   90.732   \n41        adidas Men's Drive 2 Color Stripe Golf Polo  23.97   55.00   66.666   \n1   Under Armour Men's Tech T-Shirt 2.0 (Regular a...  10.97   25.00   87.630   \n39                              DSG Men's Mesh Shorts   8.97   20.00   91.112   \n40        adidas Men's Ultimate365 Classic Golf Pants  35.97   80.00   88.656   \n24  Nike Men's Sportswear 2019 Hooded Windrunner J...  44.97  100.00   89.142   \n7            Under Armour Men's Playoff 2.0 Golf Polo  29.97   65.00   85.264   \n43    Walter Hagen Men's Essential Oxford Golf Shorts  25.97   55.00   93.044   \n44     Nike Men's Dry Momentum Blade Collar Golf Polo  25.97   55.00   93.658   \n47                adidas Men's Own The Run 5'' Shorts  16.97   35.00   91.716   \n45  Under Armour Men's Vanish Woven Shorts (Regula...  21.97   45.00   86.190   \n20           Nike Men's Striped Dry Victory Golf Polo  26.97   55.00   87.692   \n6                  Walter Hagen Men's P11 Golf Shorts  31.97   65.00   90.476   \n31  Under Armour Men's MK-1 Twist Print Shorts (Re...  17.97   35.00   85.518   \n0   Nike Men's Legend 2.0 T-Shirt (Regular and Big...  12.97   25.00   87.668   \n29  Under Armour Men's Tech Tank Top 2.0 (Regular ...  12.97   25.00   85.186   \n42  Nike Men's Dri-FIT Miler Running Long Sleeve S...  20.97   40.00   90.000   \n8                adidas Men's Ultimate365 Golf Shorts  35.97   65.00   94.350   \n38  Columbia Men's Watertight II Rain Jacket (Regu...  49.97   90.00   93.590   \n37  Under Armour Men's MK-1 Embossed Print Shorts ...  19.97   35.00   90.526   \n26  Nike Men's Dry Elite Stripe Basketball Shorts ...  26.97   45.00   93.076   \n27  Under Armour Men's Launch 7'' Running Shorts (...  21.97   35.00   87.442   \n16                       Nike Men's Dry Miler T-Shirt  21.97   35.00   80.000   \n11   Nike Men's Challenger Dri-FIT 5'' Running Shorts  21.97   35.00   82.666   \n46               TravisMathew Men's Par Tee Golf Polo  53.97   84.95   60.000   \n3   Nike Men's Sportswear Club Fleece Hoodie (Regu...  31.97   45.00   91.446   \n12  Nike Men's 8'' Flex Woven Training Shorts 2.0 ...  24.97   35.00   89.376   \n18                  Patagonia Men's Baggies 5\" Shorts  39.97   55.00   93.334   \n36                  Patagonia Men's Baggies 7\" Shorts  39.97   55.00   97.142   \n15  Under Armour Men's Launch 9'' Running Shorts (...  25.97   35.00   87.272   \n14  Under Armour Men's Sportstyle Left Chest Graph...  18.75   25.00   59.034   \n2   Under Armour Men's Tech Graphic Shorts (Regula...  18.75   25.00   93.690   \n\n    Discount  Discount%  Estimated Sale  Estimated Profit %  Estimated Proft  \n35     51.03   0.785077       22.247762            0.372072         8.277762  \n33     42.03   0.764182       20.519719            0.367925         7.549719  \n23     16.03   0.641200       13.639782            0.342365         4.669782  \n25     35.03   0.636909       30.323537            0.341436        10.353537  \n10     35.03   0.636909       30.323537            0.341436        10.353537  \n9      28.03   0.622889       25.649212            0.338381         8.679212  \n19     15.53   0.621200       14.305382            0.338011         4.835382  \n34     21.03   0.600857       20.960987            0.333524         6.990987  \n21     33.03   0.600545       32.960992            0.333455        10.990992  \n30     33.03   0.600545       32.960992            0.333455        10.990992  \n22     39.03   0.600462       38.960993            0.333436        12.990993  \n41     31.03   0.564182       35.525719            0.325278        11.555719  \n1      14.03   0.561200       16.242182            0.324598         5.272182  \n39     11.03   0.551500       13.237478            0.322378         4.267478  \n40     44.03   0.550375       53.062494            0.322120        17.092494  \n24     55.03   0.550300       66.337496            0.322103        21.367496  \n7      35.03   0.538923       44.039762            0.319479        14.069762  \n43     29.03   0.527818       38.017719            0.316897        12.047719  \n44     29.03   0.527818       38.017719            0.316897        12.047719  \n47     18.03   0.515143       24.734987            0.313927         7.764987  \n45     23.03   0.511778       31.985879            0.313134        10.015879  \n20     28.03   0.509636       39.236446            0.312629        12.266446  \n6      33.03   0.508154       46.486839            0.312278        14.516839  \n31     17.03   0.486571       25.935844            0.307136         7.965844  \n0      12.03   0.481200       18.684582            0.305845         5.714582  \n29     12.03   0.481200       18.684582            0.305845         5.714582  \n42     19.03   0.475750       30.152239            0.304529         9.182239  \n8      29.03   0.446615       51.196378            0.297411        15.226378  \n38     40.03   0.444778       71.076773            0.296957        21.106773  \n37     15.03   0.429429       28.251844            0.293143         8.281844  \n26     18.03   0.400667       37.766990            0.285884        10.796990  \n27     13.03   0.372286       30.453559            0.278574         8.483559  \n16     13.03   0.372286       30.453559            0.278574         8.483559  \n11     13.03   0.372286       30.453559            0.278574         8.483559  \n46     30.98   0.364685       74.605028            0.276590        20.635028  \n3      13.03   0.289556       42.992546            0.256383        11.022546  \n12     10.03   0.286571       33.541844            0.255557         8.571844  \n18     15.03   0.273273       53.425355            0.251853        13.455355  \n36     15.03   0.273273       53.425355            0.251853        13.455355  \n15      9.03   0.258000       34.514130            0.247555         8.544130  \n14      6.25   0.250000       24.843750            0.245283         6.093750  \n2       6.25   0.250000       24.843750            0.245283         6.093750  ",
                        "text/html": "<div>\n<style scoped>\n    .dataframe tbody tr th:only-of-type {\n        vertical-align: middle;\n    }\n\n    .dataframe tbody tr th {\n        vertical-align: top;\n    }\n\n    .dataframe thead th {\n        text-align: right;\n    }\n</style>\n<table border=\"1\" class=\"dataframe\">\n  <thead>\n    <tr style=\"text-align: right;\">\n      <th></th>\n      <th>Description</th>\n      <th>Low</th>\n      <th>High</th>\n      <th>Ratings</th>\n      <th>Discount</th>\n      <th>Discount%</th>\n      <th>Estimated Sale</th>\n      <th>Estimated Profit %</th>\n      <th>Estimated Proft</th>\n    </tr>\n  </thead>\n  <tbody>\n    <tr>\n      <th>35</th>\n      <td>Walter Hagen Men's 11 Majors Championship Stri...</td>\n      <td>13.97</td>\n      <td>65.00</td>\n      <td>94.584</td>\n      <td>51.03</td>\n      <td>0.785077</td>\n      <td>22.247762</td>\n      <td>0.372072</td>\n      <td>8.277762</td>\n    </tr>\n    <tr>\n      <th>33</th>\n      <td>Walter Hagen Men's Essential Texture Stripe Go...</td>\n      <td>12.97</td>\n      <td>55.00</td>\n      <td>94.340</td>\n      <td>42.03</td>\n      <td>0.764182</td>\n      <td>20.519719</td>\n      <td>0.367925</td>\n      <td>7.549719</td>\n    </tr>\n    <tr>\n      <th>23</th>\n      <td>Nike Men's Legend 2.0 V-Neck T-Shirt</td>\n      <td>8.97</td>\n      <td>25.00</td>\n      <td>89.432</td>\n      <td>16.03</td>\n      <td>0.641200</td>\n      <td>13.639782</td>\n      <td>0.342365</td>\n      <td>4.669782</td>\n    </tr>\n    <tr>\n      <th>25</th>\n      <td>adidas Men's Drive Heather Block Golf Polo</td>\n      <td>19.97</td>\n      <td>55.00</td>\n      <td>97.778</td>\n      <td>35.03</td>\n      <td>0.636909</td>\n      <td>30.323537</td>\n      <td>0.341436</td>\n      <td>10.353537</td>\n    </tr>\n    <tr>\n      <th>10</th>\n      <td>adidas Men's Drive Novelty Solid Golf Polo</td>\n      <td>19.97</td>\n      <td>55.00</td>\n      <td>92.222</td>\n      <td>35.03</td>\n      <td>0.636909</td>\n      <td>30.323537</td>\n      <td>0.341436</td>\n      <td>10.353537</td>\n    </tr>\n    <tr>\n      <th>9</th>\n      <td>adidas Men's Tiro 19 Training Pants (Regular a...</td>\n      <td>16.97</td>\n      <td>45.00</td>\n      <td>93.932</td>\n      <td>28.03</td>\n      <td>0.622889</td>\n      <td>25.649212</td>\n      <td>0.338381</td>\n      <td>8.679212</td>\n    </tr>\n    <tr>\n      <th>19</th>\n      <td>adidas Men's FreeLift Sport T-Shirt</td>\n      <td>9.47</td>\n      <td>25.00</td>\n      <td>90.980</td>\n      <td>15.53</td>\n      <td>0.621200</td>\n      <td>14.305382</td>\n      <td>0.338011</td>\n      <td>4.835382</td>\n    </tr>\n    <tr>\n      <th>34</th>\n      <td>Nike Men's Dri-FIT Elite Basketball Shorts</td>\n      <td>13.97</td>\n      <td>35.00</td>\n      <td>85.000</td>\n      <td>21.03</td>\n      <td>0.600857</td>\n      <td>20.960987</td>\n      <td>0.333524</td>\n      <td>6.990987</td>\n    </tr>\n    <tr>\n      <th>21</th>\n      <td>adidas Men's Drive Novelty Heather Golf Polo</td>\n      <td>21.97</td>\n      <td>55.00</td>\n      <td>93.334</td>\n      <td>33.03</td>\n      <td>0.600545</td>\n      <td>32.960992</td>\n      <td>0.333455</td>\n      <td>10.990992</td>\n    </tr>\n    <tr>\n      <th>30</th>\n      <td>Nike Men's Solid Dry Victory Golf Polo</td>\n      <td>21.97</td>\n      <td>55.00</td>\n      <td>81.818</td>\n      <td>33.03</td>\n      <td>0.600545</td>\n      <td>32.960992</td>\n      <td>0.333455</td>\n      <td>10.990992</td>\n    </tr>\n    <tr>\n      <th>22</th>\n      <td>Under Armour Men's Playoff 2.0 Tour Stripe Gol...</td>\n      <td>25.97</td>\n      <td>65.00</td>\n      <td>90.732</td>\n      <td>39.03</td>\n      <td>0.600462</td>\n      <td>38.960993</td>\n      <td>0.333436</td>\n      <td>12.990993</td>\n    </tr>\n    <tr>\n      <th>41</th>\n      <td>adidas Men's Drive 2 Color Stripe Golf Polo</td>\n      <td>23.97</td>\n      <td>55.00</td>\n      <td>66.666</td>\n      <td>31.03</td>\n      <td>0.564182</td>\n      <td>35.525719</td>\n      <td>0.325278</td>\n      <td>11.555719</td>\n    </tr>\n    <tr>\n      <th>1</th>\n      <td>Under Armour Men's Tech T-Shirt 2.0 (Regular a...</td>\n      <td>10.97</td>\n      <td>25.00</td>\n      <td>87.630</td>\n      <td>14.03</td>\n      <td>0.561200</td>\n      <td>16.242182</td>\n      <td>0.324598</td>\n      <td>5.272182</td>\n    </tr>\n    <tr>\n      <th>39</th>\n      <td>DSG Men's Mesh Shorts</td>\n      <td>8.97</td>\n      <td>20.00</td>\n      <td>91.112</td>\n      <td>11.03</td>\n      <td>0.551500</td>\n      <td>13.237478</td>\n      <td>0.322378</td>\n      <td>4.267478</td>\n    </tr>\n    <tr>\n      <th>40</th>\n      <td>adidas Men's Ultimate365 Classic Golf Pants</td>\n      <td>35.97</td>\n      <td>80.00</td>\n      <td>88.656</td>\n      <td>44.03</td>\n      <td>0.550375</td>\n      <td>53.062494</td>\n      <td>0.322120</td>\n      <td>17.092494</td>\n    </tr>\n    <tr>\n      <th>24</th>\n      <td>Nike Men's Sportswear 2019 Hooded Windrunner J...</td>\n      <td>44.97</td>\n      <td>100.00</td>\n      <td>89.142</td>\n      <td>55.03</td>\n      <td>0.550300</td>\n      <td>66.337496</td>\n      <td>0.322103</td>\n      <td>21.367496</td>\n    </tr>\n    <tr>\n      <th>7</th>\n      <td>Under Armour Men's Playoff 2.0 Golf Polo</td>\n      <td>29.97</td>\n      <td>65.00</td>\n      <td>85.264</td>\n      <td>35.03</td>\n      <td>0.538923</td>\n      <td>44.039762</td>\n      <td>0.319479</td>\n      <td>14.069762</td>\n    </tr>\n    <tr>\n      <th>43</th>\n      <td>Walter Hagen Men's Essential Oxford Golf Shorts</td>\n      <td>25.97</td>\n      <td>55.00</td>\n      <td>93.044</td>\n      <td>29.03</td>\n      <td>0.527818</td>\n      <td>38.017719</td>\n      <td>0.316897</td>\n      <td>12.047719</td>\n    </tr>\n    <tr>\n      <th>44</th>\n      <td>Nike Men's Dry Momentum Blade Collar Golf Polo</td>\n      <td>25.97</td>\n      <td>55.00</td>\n      <td>93.658</td>\n      <td>29.03</td>\n      <td>0.527818</td>\n      <td>38.017719</td>\n      <td>0.316897</td>\n      <td>12.047719</td>\n    </tr>\n    <tr>\n      <th>47</th>\n      <td>adidas Men's Own The Run 5'' Shorts</td>\n      <td>16.97</td>\n      <td>35.00</td>\n      <td>91.716</td>\n      <td>18.03</td>\n      <td>0.515143</td>\n      <td>24.734987</td>\n      <td>0.313927</td>\n      <td>7.764987</td>\n    </tr>\n    <tr>\n      <th>45</th>\n      <td>Under Armour Men's Vanish Woven Shorts (Regula...</td>\n      <td>21.97</td>\n      <td>45.00</td>\n      <td>86.190</td>\n      <td>23.03</td>\n      <td>0.511778</td>\n      <td>31.985879</td>\n      <td>0.313134</td>\n      <td>10.015879</td>\n    </tr>\n    <tr>\n      <th>20</th>\n      <td>Nike Men's Striped Dry Victory Golf Polo</td>\n      <td>26.97</td>\n      <td>55.00</td>\n      <td>87.692</td>\n      <td>28.03</td>\n      <td>0.509636</td>\n      <td>39.236446</td>\n      <td>0.312629</td>\n      <td>12.266446</td>\n    </tr>\n    <tr>\n      <th>6</th>\n      <td>Walter Hagen Men's P11 Golf Shorts</td>\n      <td>31.97</td>\n      <td>65.00</td>\n      <td>90.476</td>\n      <td>33.03</td>\n      <td>0.508154</td>\n      <td>46.486839</td>\n      <td>0.312278</td>\n      <td>14.516839</td>\n    </tr>\n    <tr>\n      <th>31</th>\n      <td>Under Armour Men's MK-1 Twist Print Shorts (Re...</td>\n      <td>17.97</td>\n      <td>35.00</td>\n      <td>85.518</td>\n      <td>17.03</td>\n      <td>0.486571</td>\n      <td>25.935844</td>\n      <td>0.307136</td>\n      <td>7.965844</td>\n    </tr>\n    <tr>\n      <th>0</th>\n      <td>Nike Men's Legend 2.0 T-Shirt (Regular and Big...</td>\n      <td>12.97</td>\n      <td>25.00</td>\n      <td>87.668</td>\n      <td>12.03</td>\n      <td>0.481200</td>\n      <td>18.684582</td>\n      <td>0.305845</td>\n      <td>5.714582</td>\n    </tr>\n    <tr>\n      <th>29</th>\n      <td>Under Armour Men's Tech Tank Top 2.0 (Regular ...</td>\n      <td>12.97</td>\n      <td>25.00</td>\n      <td>85.186</td>\n      <td>12.03</td>\n      <td>0.481200</td>\n      <td>18.684582</td>\n      <td>0.305845</td>\n      <td>5.714582</td>\n    </tr>\n    <tr>\n      <th>42</th>\n      <td>Nike Men's Dri-FIT Miler Running Long Sleeve S...</td>\n      <td>20.97</td>\n      <td>40.00</td>\n      <td>90.000</td>\n      <td>19.03</td>\n      <td>0.475750</td>\n      <td>30.152239</td>\n      <td>0.304529</td>\n      <td>9.182239</td>\n    </tr>\n    <tr>\n      <th>8</th>\n      <td>adidas Men's Ultimate365 Golf Shorts</td>\n      <td>35.97</td>\n      <td>65.00</td>\n      <td>94.350</td>\n      <td>29.03</td>\n      <td>0.446615</td>\n      <td>51.196378</td>\n      <td>0.297411</td>\n      <td>15.226378</td>\n    </tr>\n    <tr>\n      <th>38</th>\n      <td>Columbia Men's Watertight II Rain Jacket (Regu...</td>\n      <td>49.97</td>\n      <td>90.00</td>\n      <td>93.590</td>\n      <td>40.03</td>\n      <td>0.444778</td>\n      <td>71.076773</td>\n      <td>0.296957</td>\n      <td>21.106773</td>\n    </tr>\n    <tr>\n      <th>37</th>\n      <td>Under Armour Men's MK-1 Embossed Print Shorts ...</td>\n      <td>19.97</td>\n      <td>35.00</td>\n      <td>90.526</td>\n      <td>15.03</td>\n      <td>0.429429</td>\n      <td>28.251844</td>\n      <td>0.293143</td>\n      <td>8.281844</td>\n    </tr>\n    <tr>\n      <th>26</th>\n      <td>Nike Men's Dry Elite Stripe Basketball Shorts ...</td>\n      <td>26.97</td>\n      <td>45.00</td>\n      <td>93.076</td>\n      <td>18.03</td>\n      <td>0.400667</td>\n      <td>37.766990</td>\n      <td>0.285884</td>\n      <td>10.796990</td>\n    </tr>\n    <tr>\n      <th>27</th>\n      <td>Under Armour Men's Launch 7'' Running Shorts (...</td>\n      <td>21.97</td>\n      <td>35.00</td>\n      <td>87.442</td>\n      <td>13.03</td>\n      <td>0.372286</td>\n      <td>30.453559</td>\n      <td>0.278574</td>\n      <td>8.483559</td>\n    </tr>\n    <tr>\n      <th>16</th>\n      <td>Nike Men's Dry Miler T-Shirt</td>\n      <td>21.97</td>\n      <td>35.00</td>\n      <td>80.000</td>\n      <td>13.03</td>\n      <td>0.372286</td>\n      <td>30.453559</td>\n      <td>0.278574</td>\n      <td>8.483559</td>\n    </tr>\n    <tr>\n      <th>11</th>\n      <td>Nike Men's Challenger Dri-FIT 5'' Running Shorts</td>\n      <td>21.97</td>\n      <td>35.00</td>\n      <td>82.666</td>\n      <td>13.03</td>\n      <td>0.372286</td>\n      <td>30.453559</td>\n      <td>0.278574</td>\n      <td>8.483559</td>\n    </tr>\n    <tr>\n      <th>46</th>\n      <td>TravisMathew Men's Par Tee Golf Polo</td>\n      <td>53.97</td>\n      <td>84.95</td>\n      <td>60.000</td>\n      <td>30.98</td>\n      <td>0.364685</td>\n      <td>74.605028</td>\n      <td>0.276590</td>\n      <td>20.635028</td>\n    </tr>\n    <tr>\n      <th>3</th>\n      <td>Nike Men's Sportswear Club Fleece Hoodie (Regu...</td>\n      <td>31.97</td>\n      <td>45.00</td>\n      <td>91.446</td>\n      <td>13.03</td>\n      <td>0.289556</td>\n      <td>42.992546</td>\n      <td>0.256383</td>\n      <td>11.022546</td>\n    </tr>\n    <tr>\n      <th>12</th>\n      <td>Nike Men's 8'' Flex Woven Training Shorts 2.0 ...</td>\n      <td>24.97</td>\n      <td>35.00</td>\n      <td>89.376</td>\n      <td>10.03</td>\n      <td>0.286571</td>\n      <td>33.541844</td>\n      <td>0.255557</td>\n      <td>8.571844</td>\n    </tr>\n    <tr>\n      <th>18</th>\n      <td>Patagonia Men's Baggies 5\" Shorts</td>\n      <td>39.97</td>\n      <td>55.00</td>\n      <td>93.334</td>\n      <td>15.03</td>\n      <td>0.273273</td>\n      <td>53.425355</td>\n      <td>0.251853</td>\n      <td>13.455355</td>\n    </tr>\n    <tr>\n      <th>36</th>\n      <td>Patagonia Men's Baggies 7\" Shorts</td>\n      <td>39.97</td>\n      <td>55.00</td>\n      <td>97.142</td>\n      <td>15.03</td>\n      <td>0.273273</td>\n      <td>53.425355</td>\n      <td>0.251853</td>\n      <td>13.455355</td>\n    </tr>\n    <tr>\n      <th>15</th>\n      <td>Under Armour Men's Launch 9'' Running Shorts (...</td>\n      <td>25.97</td>\n      <td>35.00</td>\n      <td>87.272</td>\n      <td>9.03</td>\n      <td>0.258000</td>\n      <td>34.514130</td>\n      <td>0.247555</td>\n      <td>8.544130</td>\n    </tr>\n    <tr>\n      <th>14</th>\n      <td>Under Armour Men's Sportstyle Left Chest Graph...</td>\n      <td>18.75</td>\n      <td>25.00</td>\n      <td>59.034</td>\n      <td>6.25</td>\n      <td>0.250000</td>\n      <td>24.843750</td>\n      <td>0.245283</td>\n      <td>6.093750</td>\n    </tr>\n    <tr>\n      <th>2</th>\n      <td>Under Armour Men's Tech Graphic Shorts (Regula...</td>\n      <td>18.75</td>\n      <td>25.00</td>\n      <td>93.690</td>\n      <td>6.25</td>\n      <td>0.250000</td>\n      <td>24.843750</td>\n      <td>0.245283</td>\n      <td>6.093750</td>\n    </tr>\n  </tbody>\n</table>\n</div>"
                    },
                    "metadata": {}
                }
            ],
            "execution_count": 167
        }
    ]
}